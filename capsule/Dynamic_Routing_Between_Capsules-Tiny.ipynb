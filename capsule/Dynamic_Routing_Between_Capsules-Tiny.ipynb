{
 "cells": [
  {
   "cell_type": "markdown",
   "metadata": {},
   "source": [
    "# Capsule V1 Tiny\n",
    "\n",
    "This implementation doesn't have the decoder structure.\n",
    "\n",
    "> Dynamic Routing Between Capsules. [arXiv:1710.09829v1](https://arxiv.org/abs/1710.09829)"
   ]
  },
  {
   "cell_type": "code",
   "execution_count": 1,
   "metadata": {},
   "outputs": [],
   "source": [
    "import torch\n",
    "import torch.nn as nn\n",
    "import torch.nn.functional as F\n",
    "from torch.nn.parameter import Parameter\n",
    "\n",
    "import numpy as np\n",
    "import matplotlib.pyplot as plt\n",
    "\n",
    "%matplotlib inline\n",
    "\n",
    "from torchvision import datasets"
   ]
  },
  {
   "cell_type": "markdown",
   "metadata": {},
   "source": [
    "## Load MINST Data\n",
    "\n",
    "- download mnist dataset\n",
    "    - [http://yann.lecun.com/exdb/mnist/train-images-idx3-ubyte.gz](http://yann.lecun.com/exdb/mnist/train-images-idx3-ubyte.gz)\n",
    "    - [http://yann.lecun.com/exdb/mnist/train-labels-idx1-ubyte.gz](http://yann.lecun.com/exdb/mnist/train-labels-idx1-ubyte.gz)\n",
    "    - [http://yann.lecun.com/exdb/mnist/t10k-images-idx3-ubyte.gz](http://yann.lecun.com/exdb/mnist/t10k-images-idx3-ubyte.gz)\n",
    "    - [http://yann.lecun.com/exdb/mnist/t10k-labels-idx1-ubyte.gz](http://yann.lecun.com/exdb/mnist/t10k-labels-idx1-ubyte.gz)\n",
    "- extract them to a directory"
   ]
  },
  {
   "cell_type": "code",
   "execution_count": 2,
   "metadata": {},
   "outputs": [
    {
     "name": "stdout",
     "output_type": "stream",
     "text": [
      "torch.Size([60000, 1, 28, 28])\n"
     ]
    }
   ],
   "source": [
    "trainImage = datasets.mnist.read_image_file('../Dataset/MNIST/train-images.idx3-ubyte')\n",
    "trainLabel = datasets.mnist.read_label_file('../Dataset/MNIST/train-labels.idx1-ubyte')\n",
    "trainImage = trainImage.float() / 255\n",
    "trainLabel = trainLabel.reshape(-1,1)\n",
    "\n",
    "N,W,H = trainImage.shape\n",
    "trainImage = torch.reshape(trainImage, (N,1,W,H))\n",
    "print(trainImage.shape)\n",
    "del N,W,H"
   ]
  },
  {
   "cell_type": "code",
   "execution_count": 3,
   "metadata": {},
   "outputs": [
    {
     "data": {
      "image/png": "[encoded data removed]",
      "text/plain": [
       "<Figure size 1152x288 with 16 Axes>"
      ]
     },
     "metadata": {
      "needs_background": "light"
     },
     "output_type": "display_data"
    }
   ],
   "source": [
    "tinp = np.random.choice(trainImage.shape[0], (16,))\n",
    "tinp = trainImage.data.numpy()[tinp]\n",
    "plt.figure(figsize=(16,4))\n",
    "for i in range(16):\n",
    "    plt.subplot(2,8,i+1)\n",
    "    plt.imshow(tinp[i,0])\n",
    "plt.show()"
   ]
  },
  {
   "cell_type": "markdown",
   "metadata": {},
   "source": [
    "## Capsule \n",
    "\n",
    "- low-layer capsule $\\rightarrow$ hight-layer \n",
    "- "
   ]
  },
  {
   "cell_type": "markdown",
   "metadata": {},
   "source": [
    "### Squashing \n",
    "\n",
    "$$\n",
    "\\begin{array}{cc}\n",
    "v_j = \\dfrac{\\|s_j\\|^2}{1 + \\|s_j\\|^2} \\dfrac{s_j}{\\|s_j\\|},&\n",
    "\\|s_j\\| = \\sqrt{\\|s_j\\|^2_F}\n",
    "\\end{array}\n",
    "$$"
   ]
  },
  {
   "cell_type": "code",
   "execution_count": 4,
   "metadata": {},
   "outputs": [],
   "source": [
    "def squashing(s):\n",
    "    \"\"\"\n",
    "    Input:\n",
    "    - s: (batch, atoms, output_dim)\n",
    "    Return:\n",
    "    - v\n",
    "    \"\"\"\n",
    "    vec_squ = torch.sum(s * s, 2, keepdim=True)\n",
    "    vec_sum = torch.sqrt(vec_squ)\n",
    "    vec_v = (s * vec_sum) / (1 + vec_squ)\n",
    "    return vec_v"
   ]
  },
  {
   "cell_type": "markdown",
   "metadata": {},
   "source": [
    "### Routing algorithm\n",
    "\n",
    "$$s_j = \\sum_i c_{ij} \\hat{u}_{j|i}, \\quad \\hat{u}_{j|i} = W_{ij} u_i$$\n",
    "\n",
    "$$c_{ij} = \\dfrac{\\exp(b_{ij})}{\\sum_k \\exp(b_{ik})}$$"
   ]
  },
  {
   "cell_type": "code",
   "execution_count": 5,
   "metadata": {},
   "outputs": [],
   "source": [
    "def routing(priors, output_dim, iteration=3):\n",
    "    \"\"\"\n",
    "    batch, input_dim, output_dim, output_atoms\n",
    "    Input:\n",
    "    - hatu: (batch, input_dim, atoms) $w \\cdot u$\n",
    "    - nextlayer: a number \n",
    "    - iteration: usually 3\n",
    "    \"\"\"\n",
    "    logits = torch.zeros(*priors.shape)\n",
    "    for i in range(iteration-1):\n",
    "        probs = F.softmax(logits, dim=2)\n",
    "        outputs = squashing((probs * priors).sum(dim=2, keepdim=True))\n",
    "        delta_logits = (priors * outputs).sum(dim=-1, keepdim=True)\n",
    "        logits = logits + delta_logits\n",
    "    probs = F.softmax(logits, dim=2)\n",
    "    outputs = squashing((probs * priors).sum(dim=2, keepdim=True))\n",
    "    return outputs"
   ]
  },
  {
   "cell_type": "markdown",
   "metadata": {},
   "source": [
    "### Capsule Model"
   ]
  },
  {
   "cell_type": "code",
   "execution_count": 18,
   "metadata": {},
   "outputs": [],
   "source": [
    "class CapsuleModule(nn.Module):\n",
    "    def __init__(self):\n",
    "        super(CapsuleModule, self).__init__()\n",
    "        self.conv1 = nn.Conv2d(1,32, (9,9), stride=1)\n",
    "        self.primary_capsule = nn.Conv2d(32, 4*8, (9,9), stride=2, groups=4)\n",
    "\n",
    "        # num_capsules, 1, num_route_nodes, in_channels, out_channels\n",
    "        self.w = Parameter(torch.Tensor(10, 1, 4*6*6, 8, 8).normal_())\n",
    "        \n",
    "    def forward(self, x):\n",
    "        \"\"\"\n",
    "        Output:\n",
    "            [batch, output_dim, output_atoms]\n",
    "        \"\"\"\n",
    "        out = F.leaky_relu(self.conv1(x), 0.02) # first layer\n",
    "        # out (batch,32,6,6)\n",
    "        out = self.primary_capsule(out) # primary capsule  \n",
    "        out = torch.transpose(out.view(1, -1, 8, 4*6*6, 1), 2,3)\n",
    "        priors = torch.sum(out * self.w, dim=3)\n",
    "        out = routing(priors, 10, 3).squeeze().transpose(0,1)\n",
    "        classes = torch.sqrt((out * out).sum(dim=-1))\n",
    "        classes = F.softmax(classes, dim=-1)\n",
    "        return classes"
   ]
  },
  {
   "cell_type": "markdown",
   "metadata": {},
   "source": [
    "### Margin Loss\n",
    "\n",
    "$$L_c = T_c \\max(0,m^+ - \\|v_c\\|)^2 + \\lambda (1 - T_c) \\max(0, \\|v_c\\| - m^-)^2$$"
   ]
  },
  {
   "cell_type": "code",
   "execution_count": 19,
   "metadata": {},
   "outputs": [],
   "source": [
    "def margin_loss(classes, target, mplus=0.9, mminus=0.1, l=0.5):\n",
    "    \"\"\"\n",
    "    - vc: module output, (N,L,J)\n",
    "    - target: one hot label\n",
    "    - mplus: $m^+$\n",
    "    - mminus: $m^-$\n",
    "    - l: $lambda$\n",
    "    \"\"\"\n",
    "    thezero = torch.zeros_like(classes)\n",
    "    Lc1 = torch.where(mplus > classes, mplus-classes, thezero)\n",
    "    Lc2 = torch.where(mminus < classes, classes-mminus, thezero)\n",
    "    Lc = target * (Lc1*Lc1) + l*(1.0-target)*(Lc2*Lc2)\n",
    "    return torch.mean(Lc)"
   ]
  },
  {
   "cell_type": "markdown",
   "metadata": {},
   "source": [
    "### Train"
   ]
  },
  {
   "cell_type": "code",
   "execution_count": 20,
   "metadata": {},
   "outputs": [],
   "source": [
    "capsule = CapsuleModule()\n",
    "optim = torch.optim.Adam(capsule.parameters(), lr=1e-2)"
   ]
  },
  {
   "cell_type": "code",
   "execution_count": 21,
   "metadata": {
    "scrolled": true
   },
   "outputs": [
    {
     "name": "stdout",
     "output_type": "stream",
     "text": [
      "offset 00000, loss 0.06400385\n",
      "offset 02000, loss 0.05877112\n",
      "offset 04000, loss 0.04890063\n",
      "offset 06000, loss 0.04345290\n",
      "offset 08000, loss 0.03478120\n",
      "offset 10000, loss 0.03062857\n",
      "offset 12000, loss 0.02824106\n",
      "offset 14000, loss 0.02760237\n",
      "offset 16000, loss 0.02105987\n",
      "offset 18000, loss 0.01826883\n",
      "offset 20000, loss 0.01758327\n",
      "offset 22000, loss 0.01683989\n",
      "offset 24000, loss 0.01687297\n",
      "offset 26000, loss 0.01486851\n",
      "offset 28000, loss 0.01490840\n",
      "offset 30000, loss 0.01405214\n",
      "offset 32000, loss 0.01643979\n",
      "offset 34000, loss 0.01306902\n",
      "offset 36000, loss 0.01301917\n",
      "offset 38000, loss 0.01231681\n",
      "offset 40000, loss 0.01317632\n",
      "offset 42000, loss 0.01410828\n",
      "offset 44000, loss 0.01402120\n",
      "offset 46000, loss 0.01480285\n",
      "offset 48000, loss 0.01158743\n"
     ]
    }
   ],
   "source": [
    "# 60000 images\n",
    "for i in range(0,50000,500):\n",
    "    tImage = trainImage[i:i+500]\n",
    "    tLabel = torch.zeros(500, 10).scatter_(1, trainLabel[i:i+500], 1)\n",
    "    optim.zero_grad()\n",
    "    classes = capsule(tImage)\n",
    "    loss = margin_loss(classes, tLabel)\n",
    "    loss.backward()\n",
    "    optim.step()\n",
    "    if i % 2000 == 0:\n",
    "        print(\"offset {:05d}, loss {:.8f}\".format(i, loss))"
   ]
  },
  {
   "cell_type": "markdown",
   "metadata": {},
   "source": [
    "### test output"
   ]
  },
  {
   "cell_type": "code",
   "execution_count": 22,
   "metadata": {},
   "outputs": [
    {
     "name": "stdout",
     "output_type": "stream",
     "text": [
      "tensor([3, 8, 6, 9, 6, 9, 5, 3, 8, 4, 5, 2, 3, 8, 4, 8, 1, 5, 0, 5, 9, 7, 4, 1,\n",
      "        0, 3, 0, 6, 2, 9, 9, 4, 1, 3, 6, 8, 0, 7, 7, 6, 8, 9, 0, 3, 8, 3, 7, 7,\n",
      "        8, 4, 4, 1, 2, 9, 8, 1, 1, 0, 6, 6, 5, 0, 1, 1, 7, 2, 7, 3, 1, 4, 0, 5,\n",
      "        0, 6, 8, 7, 6, 8, 3, 9, 4, 0, 6, 1, 9, 2, 8, 3, 9, 4, 4, 5, 6, 6, 1, 7,\n",
      "        2, 8, 6, 9, 7, 0, 9, 1, 6, 2, 8, 3, 6, 4, 9, 5, 8, 6, 8, 7, 8, 8, 6, 9,\n",
      "        4, 7, 6, 0, 9, 6, 7, 0, 9, 7, 1, 3, 6, 8, 4, 6, 1, 7, 5, 1, 3, 3, 5, 7,\n",
      "        9, 9, 6, 7, 3, 4, 1, 0, 4, 2, 4, 5, 0, 0, 1, 6, 6, 4, 7, 9, 4, 6, 5, 2,\n",
      "        6, 9, 8, 8, 8, 5, 9, 3, 8, 9, 8, 8, 8, 3, 4, 4, 3, 0, 9, 5, 4, 4, 1, 8,\n",
      "        0, 6, 1, 3, 2, 0, 8, 6])\n"
     ]
    }
   ],
   "source": [
    "tout = capsule(trainImage[50000:50000+200])\n",
    "capout = torch.argmax(tout,dim=1)\n",
    "print(capout)"
   ]
  },
  {
   "cell_type": "code",
   "execution_count": 23,
   "metadata": {},
   "outputs": [
    {
     "name": "stdout",
     "output_type": "stream",
     "text": [
      "tensor([3, 8, 6, 9, 6, 4, 5, 3, 8, 4, 5, 2, 3, 8, 4, 8, 1, 5, 0, 5, 9, 7, 4, 1,\n",
      "        0, 3, 0, 6, 2, 9, 9, 4, 1, 3, 6, 8, 0, 7, 7, 6, 8, 9, 0, 3, 8, 3, 7, 7,\n",
      "        8, 4, 4, 1, 2, 9, 8, 1, 1, 0, 6, 6, 5, 0, 1, 1, 7, 2, 7, 3, 1, 4, 0, 5,\n",
      "        0, 6, 8, 7, 6, 8, 9, 9, 4, 0, 6, 1, 9, 2, 6, 3, 9, 4, 4, 5, 6, 6, 1, 7,\n",
      "        2, 8, 6, 9, 7, 0, 9, 1, 6, 2, 8, 3, 6, 4, 9, 5, 8, 6, 8, 7, 8, 8, 6, 9,\n",
      "        1, 7, 6, 0, 9, 6, 7, 0, 9, 7, 1, 3, 6, 8, 4, 6, 1, 7, 5, 1, 3, 3, 5, 7,\n",
      "        9, 9, 6, 7, 3, 4, 1, 0, 4, 2, 4, 5, 0, 0, 1, 6, 6, 4, 7, 9, 4, 6, 5, 2,\n",
      "        6, 9, 8, 8, 8, 5, 9, 3, 8, 9, 8, 8, 8, 3, 4, 4, 3, 0, 9, 5, 4, 4, 1, 8,\n",
      "        0, 6, 1, 3, 2, 0, 8, 6])\n"
     ]
    }
   ],
   "source": [
    "actlabel = trainLabel[50000:50000+200,0]\n",
    "print(actlabel)"
   ]
  },
  {
   "cell_type": "code",
   "execution_count": 26,
   "metadata": {},
   "outputs": [
    {
     "name": "stdout",
     "output_type": "stream",
     "text": [
      "tensor(0.9800)\n"
     ]
    }
   ],
   "source": [
    "print(torch.sum(capout == actlabel).float() / 200)"
   ]
  },
  {
   "cell_type": "code",
   "execution_count": null,
   "metadata": {},
   "outputs": [],
   "source": []
  }
 ],
 "metadata": {
  "kernelspec": {
   "display_name": "Python 3",
   "language": "python",
   "name": "python3"
  },
  "language_info": {
   "codemirror_mode": {
    "name": "ipython",
    "version": 3
   },
   "file_extension": ".py",
   "mimetype": "text/x-python",
   "name": "python",
   "nbconvert_exporter": "python",
   "pygments_lexer": "ipython3",
   "version": "3.6.8"
  }
 },
 "nbformat": 4,
 "nbformat_minor": 2
}
