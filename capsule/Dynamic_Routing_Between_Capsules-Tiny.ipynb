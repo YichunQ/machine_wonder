{
 "cells": [
  {
   "cell_type": "markdown",
   "metadata": {},
   "source": [
    "# Capsule V1 Tiny\n",
    "\n",
    "This implementation doesn't have the decoder structure.\n",
    "\n",
    "> Dynamic Routing Between Capsules. [arXiv:1710.09829v1](https://arxiv.org/abs/1710.09829)"
   ]
  },
  {
   "cell_type": "code",
   "execution_count": 1,
   "metadata": {},
   "outputs": [],
   "source": [
    "import torch\n",
    "import torch.nn as nn\n",
    "import torch.nn.functional as F\n",
    "from torch.nn.parameter import Parameter\n",
    "\n",
    "import numpy as np\n",
    "import matplotlib.pyplot as plt\n",
    "\n",
    "%matplotlib inline\n",
    "\n",
    "from torchvision import datasets"
   ]
  },
  {
   "cell_type": "markdown",
   "metadata": {},
   "source": [
    "## Load MINST Data\n",
    "\n",
    "- download mnist dataset\n",
    "    - [http://yann.lecun.com/exdb/mnist/train-images-idx3-ubyte.gz](http://yann.lecun.com/exdb/mnist/train-images-idx3-ubyte.gz)\n",
    "    - [http://yann.lecun.com/exdb/mnist/train-labels-idx1-ubyte.gz](http://yann.lecun.com/exdb/mnist/train-labels-idx1-ubyte.gz)\n",
    "    - [http://yann.lecun.com/exdb/mnist/t10k-images-idx3-ubyte.gz](http://yann.lecun.com/exdb/mnist/t10k-images-idx3-ubyte.gz)\n",
    "    - [http://yann.lecun.com/exdb/mnist/t10k-labels-idx1-ubyte.gz](http://yann.lecun.com/exdb/mnist/t10k-labels-idx1-ubyte.gz)\n",
    "- extract them to a directory"
   ]
  },
  {
   "cell_type": "code",
   "execution_count": 2,
   "metadata": {},
   "outputs": [
    {
     "name": "stdout",
     "output_type": "stream",
     "text": [
      "torch.Size([60000, 1, 28, 28])\n"
     ]
    }
   ],
   "source": [
    "trainImage = datasets.mnist.read_image_file('../Dataset/MNIST/train-images.idx3-ubyte')\n",
    "trainLabel = datasets.mnist.read_label_file('../Dataset/MNIST/train-labels.idx1-ubyte')\n",
    "trainImage = trainImage.float() / 255\n",
    "trainLabel = trainLabel.reshape(-1,1)\n",
    "\n",
    "N,W,H = trainImage.shape\n",
    "trainImage = torch.reshape(trainImage, (N,1,W,H))\n",
    "print(trainImage.shape)\n",
    "del N,W,H"
   ]
  },
  {
   "cell_type": "code",
   "execution_count": 3,
   "metadata": {},
   "outputs": [
    {
     "data": {
      "image/png": "[encoded data removed]",
      "text/plain": [
       "<Figure size 1152x288 with 16 Axes>"
      ]
     },
     "metadata": {
      "needs_background": "light"
     },
     "output_type": "display_data"
    }
   ],
   "source": [
    "tinp = np.random.choice(trainImage.shape[0], (16,))\n",
    "tinp = trainImage.data.numpy()[tinp]\n",
    "plt.figure(figsize=(16,4))\n",
    "for i in range(16):\n",
    "    plt.subplot(2,8,i+1)\n",
    "    plt.imshow(tinp[i,0])\n",
    "plt.show()"
   ]
  },
  {
   "cell_type": "markdown",
   "metadata": {},
   "source": [
    "## Capsule \n",
    "\n",
    "- low-layer capsule $\\rightarrow$ hight-layer \n",
    "- "
   ]
  },
  {
   "cell_type": "markdown",
   "metadata": {},
   "source": [
    "### Squashing \n",
    "\n",
    "$$\n",
    "\\begin{array}{cc}\n",
    "v_j = \\dfrac{\\|s_j\\|^2}{1 + \\|s_j\\|^2} \\dfrac{s_j}{\\|s_j\\|},&\n",
    "\\|s_j\\| = \\sqrt{\\|s_j\\|^2_F}\n",
    "\\end{array}\n",
    "$$"
   ]
  },
  {
   "cell_type": "code",
   "execution_count": 4,
   "metadata": {},
   "outputs": [],
   "source": [
    "def squashing(s):\n",
    "    \"\"\"\n",
    "    Input:\n",
    "    - s: (batch, atoms, output_dim)\n",
    "    Return:\n",
    "    - v\n",
    "    \"\"\"\n",
    "    vec_squ = torch.sum(s * s, 2, keepdim=True)\n",
    "    vec_sum = torch.sqrt(vec_squ)\n",
    "    vec_v = (s * vec_sum) / (1 + vec_squ)\n",
    "    return vec_v"
   ]
  },
  {
   "cell_type": "markdown",
   "metadata": {},
   "source": [
    "### Routing algorithm\n",
    "\n",
    "$$s_j = \\sum_i c_{ij} \\hat{u}_{j|i}, \\quad \\hat{u}_{j|i} = W_{ij} u_i$$\n",
    "\n",
    "$$c_{ij} = \\dfrac{\\exp(b_{ij})}{\\sum_k \\exp(b_{ik})}$$"
   ]
  },
  {
   "cell_type": "code",
   "execution_count": 5,
   "metadata": {},
   "outputs": [],
   "source": [
    "def routing(priors, output_dim, iteration=3):\n",
    "    \"\"\"\n",
    "    batch, input_dim, output_dim, output_atoms\n",
    "    Input:\n",
    "    - hatu: (batch, input_dim, atoms) $w \\cdot u$\n",
    "    - nextlayer: a number \n",
    "    - iteration: usually 3\n",
    "    \"\"\"\n",
    "    logits = torch.zeros(*priors.shape).cuda()\n",
    "    for i in range(iteration-1):\n",
    "        probs = F.softmax(logits, dim=2)\n",
    "        outputs = squashing((probs * priors).sum(dim=2, keepdim=True))\n",
    "        delta_logits = (priors * outputs).sum(dim=-1, keepdim=True)\n",
    "        logits = logits + delta_logits\n",
    "    probs = F.softmax(logits, dim=2)\n",
    "    outputs = squashing((probs * priors).sum(dim=2, keepdim=True))\n",
    "    return outputs, logits"
   ]
  },
  {
   "cell_type": "markdown",
   "metadata": {},
   "source": [
    "### Capsule Model"
   ]
  },
  {
   "cell_type": "code",
   "execution_count": 6,
   "metadata": {},
   "outputs": [],
   "source": [
    "class CapsuleModule(nn.Module):\n",
    "    def __init__(self):\n",
    "        super(CapsuleModule, self).__init__()\n",
    "        self.conv1 = nn.Conv2d(1,32, (9,9), stride=1)\n",
    "        self.primary_capsule = nn.Conv2d(32, 4*8, (9,9), stride=2, groups=4)\n",
    "\n",
    "        # num_capsules, 1, num_route_nodes, in_channels, out_channels\n",
    "        self.w = Parameter(torch.Tensor(10, 1, 4*6*6, 8, 8).normal_())\n",
    "        \n",
    "        self.logits = None # for routing\n",
    "        \n",
    "    def forward(self, x, routecount=3):\n",
    "        \"\"\"\n",
    "        Output:\n",
    "            [batch, output_dim, output_atoms]\n",
    "        \"\"\"\n",
    "        out = F.leaky_relu(self.conv1(x), 0.02) # first layer\n",
    "        # out (batch,32,6,6)\n",
    "        out = self.primary_capsule(out) # primary capsule  \n",
    "        out = torch.transpose(out.view(1, -1, 8, 4*6*6, 1), 2,3)\n",
    "        priors = torch.sum(out * self.w, dim=3)\n",
    "        out, self.logits = routing(priors, 10, routecount)\n",
    "        out = out.squeeze().transpose(0,1)\n",
    "        classes = torch.sqrt((out * out).sum(dim=-1))\n",
    "        classes = F.softmax(classes, dim=-1)\n",
    "        return classes"
   ]
  },
  {
   "cell_type": "markdown",
   "metadata": {},
   "source": [
    "### Margin Loss\n",
    "\n",
    "$$L_c = T_c \\max(0,m^+ - \\|v_c\\|)^2 + \\lambda (1 - T_c) \\max(0, \\|v_c\\| - m^-)^2$$"
   ]
  },
  {
   "cell_type": "code",
   "execution_count": 7,
   "metadata": {},
   "outputs": [],
   "source": [
    "def margin_loss(classes, target, mplus=0.9, mminus=0.1, l=0.5):\n",
    "    \"\"\"\n",
    "    - vc: module output, (N,L,J)\n",
    "    - target: one hot label\n",
    "    - mplus: $m^+$\n",
    "    - mminus: $m^-$\n",
    "    - l: $lambda$\n",
    "    \"\"\"\n",
    "    thezero = torch.zeros_like(classes)\n",
    "    Lc1 = torch.where(mplus > classes, mplus-classes, thezero)\n",
    "    Lc2 = torch.where(mminus < classes, classes-mminus, thezero)\n",
    "    Lc = target * (Lc1*Lc1) + l*(1.0-target)*(Lc2*Lc2)\n",
    "    return torch.mean(Lc)"
   ]
  },
  {
   "cell_type": "markdown",
   "metadata": {},
   "source": [
    "### Train"
   ]
  },
  {
   "cell_type": "code",
   "execution_count": 26,
   "metadata": {},
   "outputs": [],
   "source": [
    "capsule = CapsuleModule().cuda()\n",
    "optim = torch.optim.Adam(capsule.parameters(), lr=5e-3)"
   ]
  },
  {
   "cell_type": "code",
   "execution_count": 29,
   "metadata": {
    "scrolled": true
   },
   "outputs": [
    {
     "name": "stdout",
     "output_type": "stream",
     "text": [
      "offset 00000, loss 0.01003233\n",
      "offset 04000, loss 0.00994003\n",
      "offset 08000, loss 0.01012537\n",
      "offset 12000, loss 0.00997125\n",
      "offset 16000, loss 0.00967296\n",
      "offset 20000, loss 0.00985782\n",
      "offset 24000, loss 0.00938239\n",
      "offset 28000, loss 0.01048219\n",
      "offset 32000, loss 0.01097231\n",
      "offset 36000, loss 0.00985099\n",
      "offset 40000, loss 0.00905483\n",
      "offset 44000, loss 0.00955107\n",
      "offset 48000, loss 0.00933020\n"
     ]
    }
   ],
   "source": [
    "# 60000 images\n",
    "for i in range(0,50000,500):\n",
    "    tImage = trainImage[i:i+500].cuda()\n",
    "    tLabel = torch.zeros(500, 10).scatter_(1, trainLabel[i:i+500], 1).cuda()\n",
    "    optim.zero_grad()\n",
    "    classes = capsule(tImage)\n",
    "    loss = margin_loss(classes, tLabel)\n",
    "    loss.backward()\n",
    "    optim.step()\n",
    "    if i % 4000 == 0:\n",
    "        print(\"offset {:05d}, loss {:.8f}\".format(i, loss))"
   ]
  },
  {
   "cell_type": "markdown",
   "metadata": {},
   "source": [
    "### test output"
   ]
  },
  {
   "cell_type": "code",
   "execution_count": 31,
   "metadata": {},
   "outputs": [
    {
     "name": "stdout",
     "output_type": "stream",
     "text": [
      "tensor(0.9680, device='cuda:0')\n"
     ]
    }
   ],
   "source": [
    "tout = capsule(trainImage[50000:50000+500].cuda(), 2)\n",
    "capout = torch.argmax(tout,dim=1)\n",
    "# print(capout)\n",
    "\n",
    "actlabel = trainLabel[50000:50000+500,0].cuda()\n",
    "# print(actlabel)\n",
    "\n",
    "print(torch.sum(capout == actlabel).float() / 500)"
   ]
  },
  {
   "cell_type": "code",
   "execution_count": null,
   "metadata": {},
   "outputs": [],
   "source": []
  }
 ],
 "metadata": {
  "kernelspec": {
   "display_name": "Python 3",
   "language": "python",
   "name": "python3"
  },
  "language_info": {
   "codemirror_mode": {
    "name": "ipython",
    "version": 3
   },
   "file_extension": ".py",
   "mimetype": "text/x-python",
   "name": "python",
   "nbconvert_exporter": "python",
   "pygments_lexer": "ipython3",
   "version": "3.6.8"
  }
 },
 "nbformat": 4,
 "nbformat_minor": 2
}
