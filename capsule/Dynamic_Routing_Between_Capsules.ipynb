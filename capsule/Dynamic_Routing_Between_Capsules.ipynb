{
 "cells": [
  {
   "cell_type": "markdown",
   "metadata": {},
   "source": [
    "# Capsule V1\n",
    "\n",
    "This implementation doesn't have the decoder structure.\n",
    "\n",
    "> Dynamic Routing Between Capsules. [arXiv:1710.09829v1](https://arxiv.org/abs/1710.09829)"
   ]
  },
  {
   "cell_type": "code",
   "execution_count": 2,
   "metadata": {},
   "outputs": [],
   "source": [
    "import torch\n",
    "import torch.nn as nn\n",
    "import torch.nn.functional as F\n",
    "from torch.nn.parameter import Parameter\n",
    "\n",
    "import numpy as np\n",
    "import matplotlib.pyplot as plt\n",
    "\n",
    "%matplotlib inline\n",
    "\n",
    "from torchvision import datasets"
   ]
  },
  {
   "cell_type": "markdown",
   "metadata": {},
   "source": [
    "## Load MINST Data\n",
    "\n",
    "- download mnist dataset\n",
    "    - [http://yann.lecun.com/exdb/mnist/train-images-idx3-ubyte.gz](http://yann.lecun.com/exdb/mnist/train-images-idx3-ubyte.gz)\n",
    "    - [http://yann.lecun.com/exdb/mnist/train-labels-idx1-ubyte.gz](http://yann.lecun.com/exdb/mnist/train-labels-idx1-ubyte.gz)\n",
    "    - [http://yann.lecun.com/exdb/mnist/t10k-images-idx3-ubyte.gz](http://yann.lecun.com/exdb/mnist/t10k-images-idx3-ubyte.gz)\n",
    "    - [http://yann.lecun.com/exdb/mnist/t10k-labels-idx1-ubyte.gz](http://yann.lecun.com/exdb/mnist/t10k-labels-idx1-ubyte.gz)\n",
    "- extract them to a directory"
   ]
  },
  {
   "cell_type": "code",
   "execution_count": 3,
   "metadata": {},
   "outputs": [
    {
     "name": "stdout",
     "output_type": "stream",
     "text": [
      "torch.Size([60000, 1, 28, 28])\n"
     ]
    }
   ],
   "source": [
    "trainImage = datasets.mnist.read_image_file('../Dataset/MNIST/train-images.idx3-ubyte')\n",
    "trainLabel = datasets.mnist.read_label_file('../Dataset/MNIST/train-labels.idx1-ubyte')\n",
    "trainImage = trainImage.float() / 255\n",
    "trainLabel = trainLabel.reshape(-1,1)\n",
    "\n",
    "N,W,H = trainImage.shape\n",
    "trainImage = torch.reshape(trainImage, (N,1,W,H))\n",
    "print(trainImage.shape)\n",
    "del N,W,H"
   ]
  },
  {
   "cell_type": "code",
   "execution_count": 4,
   "metadata": {},
   "outputs": [
    {
     "data": {
      "image/png": "[encoded data removed]",
      "text/plain": [
       "<Figure size 1152x288 with 16 Axes>"
      ]
     },
     "metadata": {
      "needs_background": "light"
     },
     "output_type": "display_data"
    }
   ],
   "source": [
    "tinp = np.random.choice(trainImage.shape[0], (16,))\n",
    "tinp = trainImage.data.numpy()[tinp]\n",
    "plt.figure(figsize=(16,4))\n",
    "for i in range(16):\n",
    "    plt.subplot(2,8,i+1)\n",
    "    plt.imshow(tinp[i,0])\n",
    "plt.show()"
   ]
  },
  {
   "cell_type": "markdown",
   "metadata": {},
   "source": [
    "## Capsule \n",
    "\n",
    "- low-layer capsule $\\rightarrow$ hight-layer \n",
    "- "
   ]
  },
  {
   "cell_type": "markdown",
   "metadata": {},
   "source": [
    "### Squashing \n",
    "\n",
    "$$\n",
    "\\begin{array}{cc}\n",
    "v_j = \\dfrac{\\|s_j\\|^2}{1 + \\|s_j\\|^2} \\dfrac{s_j}{\\|s_j\\|},&\n",
    "\\|s_j\\| = \\sqrt{\\|s_j\\|^2_F}\n",
    "\\end{array}\n",
    "$$"
   ]
  },
  {
   "cell_type": "code",
   "execution_count": 5,
   "metadata": {},
   "outputs": [],
   "source": [
    "def squashing(s):\n",
    "    \"\"\"\n",
    "    Input:\n",
    "    - s: (batch, atoms, output_dim)\n",
    "    Return:\n",
    "    - v\n",
    "    \"\"\"\n",
    "    vec_squ = torch.sum(s * s, 2, keepdim=True)\n",
    "    vec_sum = torch.sqrt(vec_squ)\n",
    "    vec_v = (s * vec_sum) / (1 + vec_squ)\n",
    "    return vec_v"
   ]
  },
  {
   "cell_type": "markdown",
   "metadata": {},
   "source": [
    "### Routing algorithm\n",
    "\n",
    "$$s_j = \\sum_i c_{ij} \\hat{u}_{j|i}, \\quad \\hat{u}_{j|i} = W_{ij} u_i$$\n",
    "\n",
    "$$c_{ij} = \\dfrac{\\exp(b_{ij})}{\\sum_k \\exp(b_{ik})}$$"
   ]
  },
  {
   "cell_type": "code",
   "execution_count": 6,
   "metadata": {},
   "outputs": [],
   "source": [
    "def routing(priors, output_dim, iteration=3):\n",
    "    \"\"\"\n",
    "    batch, input_dim, output_dim, output_atoms\n",
    "    Input:\n",
    "    - hatu: (batch, input_dim, atoms) $w \\cdot u$\n",
    "    - nextlayer: a number \n",
    "    - iteration: usually 3\n",
    "    \"\"\"\n",
    "    logits = torch.zeros(*priors.shape)\n",
    "    for i in range(iteration-1):\n",
    "        probs = F.softmax(logits, dim=2)\n",
    "        outputs = squashing((probs * priors).sum(dim=2, keepdim=True))\n",
    "        delta_logits = (priors * outputs).sum(dim=-1, keepdim=True)\n",
    "        logits = logits + delta_logits\n",
    "    probs = F.softmax(logits, dim=2)\n",
    "    outputs = squashing((probs * priors).sum(dim=2, keepdim=True))\n",
    "    return outputs"
   ]
  },
  {
   "cell_type": "markdown",
   "metadata": {},
   "source": [
    "### Capsule Model"
   ]
  },
  {
   "cell_type": "code",
   "execution_count": 7,
   "metadata": {},
   "outputs": [],
   "source": [
    "class CapsuleModule(nn.Module):\n",
    "    def __init__(self):\n",
    "        super(CapsuleModule, self).__init__()\n",
    "        self.conv1 = nn.Conv2d(1,512, (9,9), stride=1)\n",
    "        self.primary_capsule = nn.Conv2d(512, 32*8, (9,9), stride=2, groups=32*8)\n",
    "\n",
    "        # num_capsules, 1, num_route_nodes, in_channels, out_channels\n",
    "        self.w = Parameter(torch.Tensor(10, 1, 32*6*6, 8, 16).normal_())\n",
    "        \n",
    "    def forward(self, x):\n",
    "        \"\"\"\n",
    "        Output:\n",
    "            [batch, output_dim, output_atoms]\n",
    "        \"\"\"\n",
    "        out = F.leaky_relu(self.conv1(x), 0.02) # first layer\n",
    "        # out (batch,32,6,6)\n",
    "        out = self.primary_capsule(out) # primary capsule  \n",
    "        out = torch.transpose(out.view(1, -1, 8, 32*6*6, 1), 2,3)\n",
    "        priors = torch.sum(out * self.w, dim=3)\n",
    "        out = routing(priors, 10, 3).squeeze().transpose(0,1)\n",
    "        classes = torch.sqrt((out * out).sum(dim=-1))\n",
    "        classes = F.softmax(classes, dim=-1)\n",
    "        return classes\n"
   ]
  },
  {
   "cell_type": "markdown",
   "metadata": {},
   "source": [
    "### Margin Loss\n",
    "\n",
    "$$L_c = T_c \\max(0,m^+ - \\|v_c\\|)^2 + \\lambda (1 - T_c) \\max(0, \\|v_c\\| - m^-)^2$$"
   ]
  },
  {
   "cell_type": "code",
   "execution_count": 8,
   "metadata": {},
   "outputs": [],
   "source": [
    "def margin_loss(classes, target, mplus=0.9, mminus=0.1, l=0.5):\n",
    "    \"\"\"\n",
    "    - vc: module output, (N,L,J)\n",
    "    - target: one hot label\n",
    "    - mplus: $m^+$\n",
    "    - mminus: $m^-$\n",
    "    - l: $lambda$\n",
    "    \"\"\"\n",
    "    thezero = torch.zeros_like(classes)\n",
    "    Lc1 = torch.where(mplus > classes, mplus-classes, thezero)\n",
    "    Lc2 = torch.where(mminus < classes, classes-mminus, thezero)\n",
    "    Lc = target * (Lc1*Lc1) + l*(1.0-target)*(Lc2*Lc2)\n",
    "    return torch.mean(Lc)"
   ]
  },
  {
   "cell_type": "markdown",
   "metadata": {},
   "source": [
    "### Train"
   ]
  },
  {
   "cell_type": "code",
   "execution_count": 9,
   "metadata": {},
   "outputs": [],
   "source": [
    "capsule = CapsuleModule()\n",
    "optim = torch.optim.Adam(capsule.parameters(), lr=1e-3)"
   ]
  },
  {
   "cell_type": "code",
   "execution_count": 10,
   "metadata": {
    "scrolled": true
   },
   "outputs": [
    {
     "name": "stdout",
     "output_type": "stream",
     "text": [
      "epho 0000, offset 0000, loss 0.06400035\n",
      "epho 0000, offset 0500, loss 0.06399973\n",
      "epho 0000, offset 1000, loss 0.06399838\n",
      "epho 0000, offset 1500, loss 0.06399673\n",
      "epho 0000, offset 2000, loss 0.06399503\n",
      "epho 0000, offset 2500, loss 0.06399271\n",
      "epho 0000, offset 3000, loss 0.06398952\n",
      "epho 0000, offset 3500, loss 0.06398597\n",
      "epho 0000, offset 4000, loss 0.06397830\n",
      "epho 0000, offset 4500, loss 0.06397027\n",
      "epho 0000, offset 5000, loss 0.06394646\n",
      "epho 0000, offset 5500, loss 0.06393398\n",
      "epho 0000, offset 6000, loss 0.06389461\n",
      "epho 0000, offset 6500, loss 0.06385339\n",
      "epho 0000, offset 7000, loss 0.06386207\n",
      "epho 0000, offset 7500, loss 0.06361863\n",
      "epho 0000, offset 8000, loss 0.06311736\n",
      "epho 0000, offset 8500, loss 0.06248755\n",
      "epho 0000, offset 9000, loss 0.06246744\n",
      "epho 0000, offset 9500, loss 0.06121963\n",
      "epho 0000, offset 10000, loss 0.06220530\n",
      "epho 0000, offset 10500, loss 0.06196919\n",
      "epho 0000, offset 11000, loss 0.05987598\n",
      "epho 0000, offset 11500, loss 0.05831876\n",
      "epho 0000, offset 12000, loss 0.05741747\n",
      "epho 0000, offset 12500, loss 0.05805316\n",
      "epho 0000, offset 13000, loss 0.05469797\n",
      "epho 0000, offset 13500, loss 0.05530875\n",
      "epho 0000, offset 14000, loss 0.05524445\n",
      "epho 0000, offset 14500, loss 0.05500780\n",
      "epho 0000, offset 15000, loss 0.05153628\n",
      "epho 0000, offset 15500, loss 0.05070802\n",
      "epho 0000, offset 16000, loss 0.05228805\n",
      "epho 0000, offset 16500, loss 0.04678172\n",
      "epho 0000, offset 17000, loss 0.04663477\n",
      "epho 0000, offset 17500, loss 0.04839759\n",
      "epho 0000, offset 18000, loss 0.04439905\n",
      "epho 0000, offset 18500, loss 0.04285801\n",
      "epho 0000, offset 19000, loss 0.04398021\n",
      "epho 0000, offset 19500, loss 0.04287050\n",
      "epho 0000, offset 20000, loss 0.03896579\n",
      "epho 0000, offset 20500, loss 0.03760290\n",
      "epho 0000, offset 21000, loss 0.03955800\n",
      "epho 0000, offset 21500, loss 0.03997768\n",
      "epho 0000, offset 22000, loss 0.03857983\n",
      "epho 0000, offset 22500, loss 0.04028102\n",
      "epho 0000, offset 23000, loss 0.03547461\n",
      "epho 0000, offset 23500, loss 0.03488967\n",
      "epho 0000, offset 24000, loss 0.03191208\n",
      "epho 0000, offset 24500, loss 0.03398612\n",
      "epho 0000, offset 25000, loss 0.03028132\n",
      "epho 0000, offset 25500, loss 0.03036750\n",
      "epho 0000, offset 26000, loss 0.03089572\n",
      "epho 0000, offset 26500, loss 0.03147307\n",
      "epho 0000, offset 27000, loss 0.03042177\n",
      "epho 0000, offset 27500, loss 0.02667415\n",
      "epho 0000, offset 28000, loss 0.03021987\n",
      "epho 0000, offset 28500, loss 0.02826989\n",
      "epho 0000, offset 29000, loss 0.02963453\n",
      "epho 0000, offset 29500, loss 0.02932079\n",
      "epho 0000, offset 30000, loss 0.02591201\n",
      "epho 0000, offset 30500, loss 0.03031549\n",
      "epho 0000, offset 31000, loss 0.02668250\n",
      "epho 0000, offset 31500, loss 0.02706720\n",
      "epho 0000, offset 32000, loss 0.02815683\n",
      "epho 0000, offset 32500, loss 0.02085046\n",
      "epho 0000, offset 33000, loss 0.02574068\n",
      "epho 0000, offset 33500, loss 0.02128316\n",
      "epho 0000, offset 34000, loss 0.02141652\n",
      "epho 0000, offset 34500, loss 0.02343428\n",
      "epho 0000, offset 35000, loss 0.02257231\n",
      "epho 0000, offset 35500, loss 0.02119029\n",
      "epho 0000, offset 36000, loss 0.02579007\n",
      "epho 0000, offset 36500, loss 0.02182302\n",
      "epho 0000, offset 37000, loss 0.02408695\n",
      "epho 0000, offset 37500, loss 0.02273314\n",
      "epho 0000, offset 38000, loss 0.02142029\n",
      "epho 0000, offset 38500, loss 0.01963854\n",
      "epho 0000, offset 39000, loss 0.02273480\n",
      "epho 0000, offset 39500, loss 0.02524381\n",
      "epho 0000, offset 40000, loss 0.01805213\n",
      "epho 0000, offset 40500, loss 0.01743446\n",
      "epho 0000, offset 41000, loss 0.02266139\n",
      "epho 0000, offset 41500, loss 0.02454600\n",
      "epho 0000, offset 42000, loss 0.02198665\n",
      "epho 0000, offset 42500, loss 0.02041617\n",
      "epho 0000, offset 43000, loss 0.01757294\n",
      "epho 0000, offset 43500, loss 0.01753440\n",
      "epho 0000, offset 44000, loss 0.01914132\n",
      "epho 0000, offset 44500, loss 0.01633049\n",
      "epho 0000, offset 45000, loss 0.01960146\n",
      "epho 0000, offset 45500, loss 0.01927787\n",
      "epho 0000, offset 46000, loss 0.02050976\n",
      "epho 0000, offset 46500, loss 0.01464003\n",
      "epho 0000, offset 47000, loss 0.01900905\n",
      "epho 0000, offset 47500, loss 0.01833799\n",
      "epho 0000, offset 48000, loss 0.01759875\n",
      "epho 0000, offset 48500, loss 0.01791431\n",
      "epho 0000, offset 49000, loss 0.01960816\n",
      "epho 0000, offset 49500, loss 0.02019427\n"
     ]
    }
   ],
   "source": [
    "# 60000 images\n",
    "for epho in range(1):\n",
    "    for i in range(0,50000,500):\n",
    "        tImage = trainImage[i:i+500]\n",
    "        tLabel = torch.zeros(500, 10).scatter_(1, trainLabel[i:i+500], 1)\n",
    "        optim.zero_grad()\n",
    "        classes = capsule(tImage)\n",
    "        loss = margin_loss(classes, tLabel)\n",
    "        loss.backward()\n",
    "        optim.step()\n",
    "        print(\"epho {:04d}, offset {:05d}, loss {:.8f}\".format(epho, i, loss))"
   ]
  },
  {
   "cell_type": "markdown",
   "metadata": {},
   "source": [
    "### test output"
   ]
  },
  {
   "cell_type": "code",
   "execution_count": 17,
   "metadata": {},
   "outputs": [
    {
     "name": "stdout",
     "output_type": "stream",
     "text": [
      "tensor([3, 8, 6, 9, 6, 4, 4, 5, 8, 4, 5, 2, 3, 8, 4, 8, 8, 5, 0, 5, 9, 7, 4, 1,\n",
      "        0, 6, 0, 6, 2, 7, 9, 4, 1, 5, 6, 8, 0, 7, 7, 6, 8, 9, 0, 3, 8, 3, 2, 7,\n",
      "        8, 4, 4, 1, 4, 9, 8, 1, 1, 0, 6, 6, 5, 0, 1, 1, 7, 2, 7, 3, 1, 4, 0, 5,\n",
      "        0, 6, 9, 7, 6, 8, 5, 9, 4, 0, 6, 1, 4, 2, 2, 8, 7, 4, 9, 4, 6, 6, 1, 7,\n",
      "        2, 8, 6, 7])\n"
     ]
    }
   ],
   "source": [
    "tout = capsule(trainImage[50000:50000+100])\n",
    "capout = torch.argmax(tout,dim=1)\n",
    "print(capout)"
   ]
  },
  {
   "cell_type": "code",
   "execution_count": null,
   "metadata": {},
   "outputs": [],
   "source": [
    "actlabel = trainLabel[50000:50000+100,0]\n",
    "print(actlabel)"
   ]
  },
  {
   "cell_type": "code",
   "execution_count": null,
   "metadata": {},
   "outputs": [],
   "source": [
    "print(torch.sum(capout == actlabel))"
   ]
  }
 ],
 "metadata": {
  "kernelspec": {
   "display_name": "Python 3",
   "language": "python",
   "name": "python3"
  }
 },
 "nbformat": 4,
 "nbformat_minor": 2
}
