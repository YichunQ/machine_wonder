{
 "cells": [
  {
   "cell_type": "markdown",
   "metadata": {},
   "source": [
    "# THE MNIST DATABASE of handwritten digits\n",
    "\n",
    "All data came from [MNIST](http://yann.lecun.com/exdb/mnist/)\n",
    "\n",
    "The MNIST training set is composed of 30,000 patterns from SD-3 and 30,000 patterns from SD-1. Our test set was composed of 5,000 patterns from SD-3 and 5,000 patterns from SD-1. The 60,000 pattern training set contained examples from approximately 250 writers. We made sure that the sets of writers of the training set and test set were disjoint.\n",
    "\n",
    "SD-1 contains 58,527 digit images written by 500 different writers. In contrast to SD-3, where blocks of data from each writer appeared in sequence, the data in SD-1 is scrambled. Writer identities for SD-1 is available and we used this information to unscramble the writers. We then split SD-1 in two: characters written by the first 250 writers went into our new training set. The remaining 250 writers were placed in our test set. Thus we had two sets with nearly 30,000 examples each. The new training set was completed with enough examples from SD-3, starting at pattern # 0, to make a full set of 60,000 training patterns. Similarly, the new test set was completed with SD-3 examples starting at pattern # 35,000 to make a full set with 60,000 test patterns. Only a subset of 10,000 test images (5,000 from SD-1 and 5,000 from SD-3) is available on this site. The full 60,000 sample training set is available.\n",
    "\n"
   ]
  },
  {
   "cell_type": "code",
   "execution_count": 4,
   "metadata": {},
   "outputs": [],
   "source": [
    "import numpy as np\n",
    "import matplotlib.pyplot as plt\n",
    "import Dataset.mnistReader as mnist\n",
    "import random\n",
    "import NNetWork.Layers as nn\n",
    "import NNetWork.Variables as uvar\n",
    "from NNetWork.Util import getBatch\n",
    "from NNetWork.Optim import Adam\n",
    "\n",
    "from NNetWork.LossFunc import softMax\n",
    "\n",
    "trainData = mnist.read_train_data() # 60000 images\n",
    "taskData = mnist.read_task_data() # 10000 images\n",
    "\n",
    "plt.rcParams['image.cmap'] = 'gray'\n",
    "plt.rcParams['figure.figsize'] = (20, 20)\n",
    "\n",
    "# magic!!\n",
    "%matplotlib inline"
   ]
  },
  {
   "cell_type": "markdown",
   "metadata": {},
   "source": [
    "## Show the MNIST Data"
   ]
  },
  {
   "cell_type": "code",
   "execution_count": 2,
   "metadata": {
    "collapsed": true
   },
   "outputs": [],
   "source": [
    "def showMNISTData(imgs, labs):\n",
    "    \"\"\"\n",
    "    show 10 datas\n",
    "    the data is the shape of (imgs, labels)\n",
    "    \"\"\"\n",
    "    N, W, H = imgs.shape\n",
    "    n = np.ceil(np.sqrt(N))\n",
    "    for i in range(N):\n",
    "        plt.subplot(n, n, i+1)\n",
    "        plt.imshow(imgs[i])\n",
    "        plt.title('%d'%labs[i])\n",
    "        plt.gca().axis('off')\n",
    "    plt.show()    "
   ]
  },
  {
   "cell_type": "code",
   "execution_count": 3,
   "metadata": {},
   "outputs": [
    {
     "data": {
      "image/png": "[encoded data removed]",
      "text/plain": [
       "<matplotlib.figure.Figure at 0x7f3653a3ba20>"
      ]
     },
     "metadata": {},
     "output_type": "display_data"
    }
   ],
   "source": [
    "X_train, Y_train = trainData\n",
    "X_task, Y_task = taskData\n",
    "showMNISTData(X_train[0:16], Y_train[0:16])"
   ]
  },
  {
   "cell_type": "markdown",
   "metadata": {},
   "source": [
    "## Create the model"
   ]
  },
  {
   "cell_type": "code",
   "execution_count": 12,
   "metadata": {
    "collapsed": true
   },
   "outputs": [],
   "source": [
    "X = uvar.BaseVar(np.reshape(X_train[0:1000]/255, (-1,1,28,28)))\n",
    "Y = uvar.BaseVar(Y_train[0:1000])\n",
    "\n",
    "# class NNSpider(nn.Empty):\n",
    "#     def forward(self,x):\n",
    "#         print(x.data.shape)\n",
    "#         return x\n",
    "\n",
    "model = nn.Serial(\n",
    "    nn.Conv2d(1,2,(7,7)),\n",
    "    nn.ReLU(),\n",
    "    nn.Conv2d(2,1,(3,3)),\n",
    "    nn.ReLU(),\n",
    "    nn.Reshape(-1, 20*20),\n",
    "    nn.Linear(20*20, 100),\n",
    "    nn.ReLU(),\n",
    "    nn.Linear(100,10)\n",
    ")\n",
    "\n",
    "model.load(\"ConvMNIST.model\")\n",
    "\n",
    "optim = Adam(model.parameters(), lr=1e-2)\n"
   ]
  },
  {
   "cell_type": "markdown",
   "metadata": {},
   "source": [
    "## Train The model"
   ]
  },
  {
   "cell_type": "code",
   "execution_count": 13,
   "metadata": {
    "scrolled": false
   },
   "outputs": [
    {
     "name": "stdout",
     "output_type": "stream",
     "text": [
      "runing 0 loss 151.855419348471\n"
     ]
    },
    {
     "name": "stderr",
     "output_type": "stream",
     "text": [
      "/home/aliy/Tools/anaconda3/lib/python3.6/site-packages/ipykernel_launcher.py:22: DeprecationWarning: elementwise == comparison failed; this will raise an error in the future.\n"
     ]
    },
    {
     "name": "stdout",
     "output_type": "stream",
     "text": [
      "runing 10 loss 8.112235003047129\n",
      "runing 20 loss 4.979894659319101\n"
     ]
    },
    {
     "data": {
      "image/png": "[encoded data removed]",
      "text/plain": [
       "<matplotlib.figure.Figure at 0x7f365159ea20>"
      ]
     },
     "metadata": {},
     "output_type": "display_data"
    }
   ],
   "source": [
    "loss_hist = []\n",
    "accu_hist = []\n",
    "# accx = uvar.BaseVar(np.reshape(X_train[1000:1010]/255, (-1,1,28,28)))[0:100]\n",
    "\n",
    "# %debug\n",
    "# optim = Adam(model.parameters(), lr=1e-4)\n",
    "for i in range(30):\n",
    "    loss = 0\n",
    "    for x, y in getBatch(X, Y, 500):\n",
    "        out = model.forward(x)\n",
    "        loss += softMax(out,y)\n",
    "        model.backward(out)\n",
    "        optim.step()\n",
    "    if i % 10 == 0:\n",
    "        print(\"runing\",i, \"loss\", loss)\n",
    "    loss_hist.append(loss)\n",
    "\n",
    "plt.plot(loss_hist)\n",
    "plt.show()"
   ]
  },
  {
   "cell_type": "markdown",
   "metadata": {},
   "source": [
    "## The accuricy"
   ]
  },
  {
   "cell_type": "code",
   "execution_count": 14,
   "metadata": {
    "collapsed": true
   },
   "outputs": [],
   "source": [
    "model.save(\"ConvMNIST.model\")"
   ]
  },
  {
   "cell_type": "code",
   "execution_count": 15,
   "metadata": {},
   "outputs": [
    {
     "name": "stdout",
     "output_type": "stream",
     "text": [
      "BaseVar\n",
      "Data [6 7 1 7 7 7 9 7 7 7 7 7]\n",
      "Grid None\n",
      "\n",
      "[5 7 1 7 1 1 6 3 0 2 9 3]\n",
      "0.25\n"
     ]
    },
    {
     "data": {
      "image/png": "[encoded data removed]",
      "text/plain": [
       "<matplotlib.figure.Figure at 0x7f3650d6c630>"
      ]
     },
     "metadata": {},
     "output_type": "display_data"
    }
   ],
   "source": [
    "# accx = uvar.BaseVar(np.reshape(X_train[1000:1012]/255, (-1,1,28,28)))\n",
    "accx = uvar.BaseVar(np.reshape(X_train[100:112]/255, (-1,1,28,28)))\n",
    "acco = model.forward(accx)\n",
    "accy = acco.argmax(axis=1)\n",
    "print(accy[0:20])\n",
    "print(Y_train[100:112][0:20])\n",
    "acc = np.mean(accy.data == Y_train[100:112])\n",
    "print(acc)\n",
    "showMNISTData(np.reshape(accx.data, (-1,28,28)), accy.data)"
   ]
  }
 ],
 "metadata": {
  "kernelspec": {
   "display_name": "Python 3",
   "language": "python",
   "name": "python3"
  },
  "language_info": {
   "codemirror_mode": {
    "name": "ipython",
    "version": 3
   },
   "file_extension": ".py",
   "mimetype": "text/x-python",
   "name": "python",
   "nbconvert_exporter": "python",
   "pygments_lexer": "ipython3",
   "version": "3.6.3"
  }
 },
 "nbformat": 4,
 "nbformat_minor": 2
}
